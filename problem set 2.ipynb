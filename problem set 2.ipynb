{
  "metadata": {
    "language_info": {
      "codemirror_mode": {
        "name": "python",
        "version": 3
      },
      "file_extension": ".py",
      "mimetype": "text/x-python",
      "name": "python",
      "nbconvert_exporter": "python",
      "pygments_lexer": "ipython3",
      "version": "3.8"
    },
    "kernelspec": {
      "name": "python",
      "display_name": "Python (Pyodide)",
      "language": "python"
    }
  },
  "nbformat_minor": 4,
  "nbformat": 4,
  "cells": [
    {
      "cell_type": "markdown",
      "source": "Question 1",
      "metadata": {}
    },
    {
      "cell_type": "code",
      "source": "a = 0\ndef b():\n global a\n a = c(a)\ndef c(a):\n return a + 2\n\nb()\nb()\nb()\na",
      "metadata": {
        "trusted": true
      },
      "execution_count": 15,
      "outputs": [
        {
          "execution_count": 15,
          "output_type": "execute_result",
          "data": {
            "text/plain": "6"
          },
          "metadata": {}
        }
      ]
    },
    {
      "cell_type": "markdown",
      "source": "At first function call the value of 'a' will become 2 and then increases by 2 in every call.so, after the 3 rd call it will become 6",
      "metadata": {}
    },
    {
      "cell_type": "markdown",
      "source": "Question 2",
      "metadata": {}
    },
    {
      "cell_type": "code",
      "source": "def fileLength(filename):                #function to open a file\n    try:\n        infile = open(filename)\n        items = infile.read()\n        infile.close()\n        print(len(items))\n    except:\n        print(\"File \"+filename+\" not found!\")\nfileLength(\"midterm.py\")\nfileLength(\"idterm.py\")",
      "metadata": {
        "trusted": true
      },
      "execution_count": 3,
      "outputs": [
        {
          "name": "stdout",
          "text": "123\nFile idterm.py not found!\n",
          "output_type": "stream"
        }
      ]
    },
    {
      "cell_type": "markdown",
      "source": "Question 3",
      "metadata": {}
    },
    {
      "cell_type": "code",
      "source": "class Marsupial:                     #parent class \n    \n    def __init__(self,x,y):          #defining constructor to assign values.\n        self.pouch=[]                   \n             \n    def put_in_pouch(self,items):    # appending items \n        self.pouch.append(items)\n        \n    def pouch_contents(self):           \n        return self.pouch\n\nclass Kangaroo(Marsupial):           # sub-class Kangaroo \n    def __init__(self,x,y):              \n        super().__init__(x,y)        #inheriting values  \n        self.dx = 0                      \n        self.dy = 0                        \n    \n    def jump(self,x,y):                 \n        self.dx = self.dx + x        #jump function  \n        self.dy = self.dy + y\n    \n    def __str__(self):               #overloading the _str_ operator \n        \n        return ('I am a Kangaroo located at coordinates ( {},{})'.format(self.dx,self.dy))\n\nk = Kangaroo(0,0)\nprint(k)\nk.put_in_pouch('doll')\nk.put_in_pouch('firetruck')\nk.put_in_pouch('kitten')\nk.pouch_contents()\nprint(k.pouch)  \nk.jump(1,0)\nk.jump(1,0)\nk.jump(1,0)\nprint(k)\n",
      "metadata": {
        "trusted": true
      },
      "execution_count": 6,
      "outputs": [
        {
          "name": "stdout",
          "text": "I am a Kangaroo located at coordinates ( 0,0)\n['doll', 'firetruck', 'kitten']\nI am a Kangaroo located at coordinates ( 3,0)\n",
          "output_type": "stream"
        }
      ]
    },
    {
      "cell_type": "markdown",
      "source": "Question 4",
      "metadata": {}
    },
    {
      "cell_type": "code",
      "source": "def collatz (x):               #function to print collatz function.\n    if(x != 1):\n        print(x ,'\\n')\n    if(x == 1):\n        print(x ,'\\n')\n        return x\n    if(x%2 == 0):\n        x = x // 2\n        collatz(x)\n    else:\n        x= 3*x + 1\n        collatz(x)\n\n\ncollatz(1)\ncollatz(10)",
      "metadata": {
        "trusted": true
      },
      "execution_count": 35,
      "outputs": [
        {
          "name": "stdout",
          "text": "1 \n\n10 \n\n5 \n\n16 \n\n8 \n\n4 \n\n2 \n\n1 \n\n",
          "output_type": "stream"
        }
      ]
    },
    {
      "cell_type": "markdown",
      "source": "Question 5",
      "metadata": {}
    },
    {
      "cell_type": "code",
      "source": "def binary(n, binary_val = \"\"):       #reqursive function\n    if n > 1:\n        reminder = n % 2\n        binary_val = str(reminder) + binary_val\n        binary(int(n/2), binary_val)\n    else:\n        print(str(n) + binary_val)\n        \nbinary(0)                            \nbinary(1)\nbinary(3)\nbinary(9)",
      "metadata": {
        "trusted": true
      },
      "execution_count": 40,
      "outputs": [
        {
          "name": "stdout",
          "text": "0\n1\n11\n1001\n",
          "output_type": "stream"
        }
      ]
    },
    {
      "cell_type": "markdown",
      "source": "Question 6",
      "metadata": {}
    },
    {
      "cell_type": "code",
      "source": "from html.parser import HTMLParser\nclass HeadingParser(HTMLParser):               #class for checking indentation\n    indentation = \"\"\n        \n    def handle_starttag(self, tag, attrs):\n        if tag == 'h1':\n            self.indentation = 0\n        elif tag == 'h2':\n            self.indentation = 1\n        elif tag == 'h3':\n            self.indentation = 2\n        elif tag == 'h4':\n            self.indentation = 3\n        elif tag == 'h5':\n            self.indentation = 4            \n        elif tag == 'h6':\n            self.indentation = 5\n        else:\n            self.indentation = -1\n               \n\n    def handle_data(self, data):\n        if data.strip() != \"\":\n            printWithIndentation(data, self.indentation)\n        \n\ndef print_indentation(text, indentation):        #function to print headings.\n    if indentation >= 0:\n        print(f\"{' ' * indentation}{text}\")        \n\ninfile = open('w3c.html') \ncontent = infile.read() \ninfile.close() \n\nheadingParser = HeadingParser()\nheadingParser.feed(content)",
      "metadata": {
        "trusted": true
      },
      "execution_count": 51,
      "outputs": [
        {
          "name": "stdout",
          "text": "W3C Mission\n Principles\n",
          "output_type": "stream"
        }
      ]
    },
    {
      "cell_type": "markdown",
      "source": "Question  8",
      "metadata": {}
    },
    {
      "cell_type": "markdown",
      "source": "Assumingg the table is named weather.\n\n\"SELECT * FROM weather\"\n\n\"SELECT * FROM weather WHERE Country = 'India'\"\n\n\"SELECT * FROM weather WHERE Season = 'Fall'\"\n\n\"SELECT * FROM weather WHERE Rainfall > 200 AND Rainfall < 400\"\n\n\"SELECT * FROM weather WHERE Temperature > 20 ORDER BY Temperature\"\n\n\"SELECT SUM(Rainfall FROM weather WHERE City = 'Cairo'\"\n\n\"SELECT Season, SUM(Rainfall FROM weather GROUP BY Season\"",
      "metadata": {}
    },
    {
      "cell_type": "markdown",
      "source": "Question 9",
      "metadata": {}
    },
    {
      "cell_type": "code",
      "source": "words = ['The', 'quick', 'brown', 'fox', 'jumps', 'over','the', 'lazy', 'dog']    #list containing words\nlista = []\nlistb = []\nlistc = []\nlistd = []\nliste = []\n\nfor word in words:            #loop to append list\n    lista.append(word.upper())\n    listb.append(word.lower())\n    listc.append(len(word))\n    listd.append([word.upper(), word.lower(), len(word)])\n    if len(word) >= 4:\n        liste.append(word)\n\nprint(lista)\nprint(listb)\nprint(listc)\nprint(listd)\nprint(liste)",
      "metadata": {
        "trusted": true
      },
      "execution_count": 52,
      "outputs": [
        {
          "name": "stdout",
          "text": "['THE', 'QUICK', 'BROWN', 'FOX', 'JUMPS', 'OVER', 'THE', 'LAZY', 'DOG']\n['the', 'quick', 'brown', 'fox', 'jumps', 'over', 'the', 'lazy', 'dog']\n[3, 5, 5, 3, 5, 4, 3, 4, 3]\n[['THE', 'the', 3], ['QUICK', 'quick', 5], ['BROWN', 'brown', 5], ['FOX', 'fox', 3], ['JUMPS', 'jumps', 5], ['OVER', 'over', 4], ['THE', 'the', 3], ['LAZY', 'lazy', 4], ['DOG', 'dog', 3]]\n['quick', 'brown', 'jumps', 'over', 'lazy']\n",
          "output_type": "stream"
        }
      ]
    },
    {
      "cell_type": "code",
      "source": "",
      "metadata": {},
      "execution_count": null,
      "outputs": []
    }
  ]
}